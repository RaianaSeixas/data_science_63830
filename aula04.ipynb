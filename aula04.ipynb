{
 "cells": [
  {
   "cell_type": "markdown",
   "metadata": {},
   "source": [
    "## Estruturas de repetição"
   ]
  },
  {
   "cell_type": "code",
   "execution_count": 1,
   "metadata": {},
   "outputs": [
    {
     "name": "stdout",
     "output_type": "stream",
     "text": [
      "5 15\n",
      "15 25\n",
      "25 35\n",
      "35 45\n",
      "45 55\n"
     ]
    }
   ],
   "source": [
    "for i in range(5,50,10):\n",
    "    k=i+10\n",
    "    print(i,k)\n",
    "\n",
    "\n"
   ]
  },
  {
   "cell_type": "code",
   "execution_count": 2,
   "metadata": {},
   "outputs": [
    {
     "name": "stdout",
     "output_type": "stream",
     "text": [
      "iteração= 0 --- item=1 --- soma= 1\n",
      "iteração= 1 --- item=3 --- soma= 4\n",
      "iteração= 2 --- item=7 --- soma= 11\n",
      "iteração= 3 --- item=9 --- soma= 20\n"
     ]
    },
    {
     "data": {
      "text/plain": [
       "20"
      ]
     },
     "execution_count": 2,
     "metadata": {},
     "output_type": "execute_result"
    }
   ],
   "source": [
    "lista = [1, 3, 7, 9]\n",
    "soma = 0\n",
    "i=0\n",
    "for item in lista:\n",
    "    soma = soma +item\n",
    "    print(f\"iteração= {i} --- item={item} --- soma= {soma}\")\n",
    "    i += 1\n",
    "\n",
    "soma\n"
   ]
  },
  {
   "cell_type": "code",
   "execution_count": 3,
   "metadata": {},
   "outputs": [
    {
     "name": "stdout",
     "output_type": "stream",
     "text": [
      "i=0 , item =1, valor=0\n",
      "i=0 , item =3, valor=0\n",
      "i=0 , item =7, valor=0\n",
      "i=0 , item =9, valor=0\n",
      "i=1 , item =1, valor=1\n",
      "i=1 , item =3, valor=3\n",
      "i=1 , item =7, valor=7\n",
      "i=1 , item =9, valor=9\n",
      "i=2 , item =1, valor=2\n",
      "i=2 , item =3, valor=6\n",
      "i=2 , item =7, valor=14\n",
      "i=2 , item =9, valor=18\n",
      "i=3 , item =1, valor=3\n",
      "i=3 , item =3, valor=9\n",
      "i=3 , item =7, valor=21\n",
      "i=3 , item =9, valor=27\n",
      "i=4 , item =1, valor=4\n",
      "i=4 , item =3, valor=12\n",
      "i=4 , item =7, valor=28\n",
      "i=4 , item =9, valor=36\n"
     ]
    }
   ],
   "source": [
    "soma=0\n",
    "for i in range(5):\n",
    "    for item in lista:\n",
    "        valor = i*item\n",
    "        soma= soma +valor\n",
    "        print(f\"i={i} , item ={item}, valor={valor}\")"
   ]
  },
  {
   "cell_type": "code",
   "execution_count": 4,
   "metadata": {},
   "outputs": [
    {
     "data": {
      "text/plain": [
       "200"
      ]
     },
     "execution_count": 4,
     "metadata": {},
     "output_type": "execute_result"
    }
   ],
   "source": [
    "soma"
   ]
  },
  {
   "cell_type": "code",
   "execution_count": 5,
   "metadata": {},
   "outputs": [
    {
     "name": "stdout",
     "output_type": "stream",
     "text": [
      "1\n",
      "2\n",
      "3\n",
      "4\n",
      "5\n",
      "6\n",
      "7\n",
      "8\n",
      "9\n",
      "10\n"
     ]
    }
   ],
   "source": [
    "i=0\n",
    "while i <10 :\n",
    "    \n",
    "    i = i + 1\n",
    "    print(i)"
   ]
  },
  {
   "cell_type": "markdown",
   "metadata": {},
   "source": [
    "## Condicionais"
   ]
  },
  {
   "cell_type": "code",
   "execution_count": 6,
   "metadata": {},
   "outputs": [
    {
     "name": "stdout",
     "output_type": "stream",
     "text": [
      "número 10 é par\n"
     ]
    }
   ],
   "source": [
    "x = 10\n",
    "if (x%2 == 0):\n",
    "    print(f\"número {x} é par\")"
   ]
  },
  {
   "cell_type": "code",
   "execution_count": 7,
   "metadata": {},
   "outputs": [
    {
     "name": "stdout",
     "output_type": "stream",
     "text": [
      "digite um número inteiro\n"
     ]
    }
   ],
   "source": [
    "x = 'a'\n",
    "if (type(x) != int):\n",
    "    print('digite um número inteiro')\n",
    "elif (x%2 == 0):\n",
    "    print(f\"número {x} é par\")\n",
    "else:\n",
    "    print(f\"número {x} é ímpar\")\n"
   ]
  },
  {
   "cell_type": "markdown",
   "metadata": {},
   "source": [
    "## Exercícios em Sala (loops)"
   ]
  },
  {
   "cell_type": "code",
   "execution_count": 8,
   "metadata": {},
   "outputs": [
    {
     "name": "stdout",
     "output_type": "stream",
     "text": [
      "soma anterior  0\n",
      "i:0, soma :0\n",
      "soma anterior  0\n",
      "i:1, soma :1\n",
      "soma anterior  1\n",
      "i:2, soma :3\n",
      "soma anterior  3\n",
      "i:3, soma :6\n",
      "soma anterior  6\n",
      "i:4, soma :10\n",
      "soma anterior  10\n",
      "i:5, soma :15\n"
     ]
    }
   ],
   "source": [
    "# Somando os primeiros n números naturais\n",
    "\n",
    "n=5\n",
    "soma = 0\n",
    "for i in range(0, n+1):\n",
    "    print('soma anterior ',soma)\n",
    "    soma = soma + i\n",
    "    print(f\"i:{i}, soma :{soma}\")"
   ]
  },
  {
   "cell_type": "code",
   "execution_count": 9,
   "metadata": {},
   "outputs": [
    {
     "data": {
      "text/plain": [
       "15"
      ]
     },
     "execution_count": 9,
     "metadata": {},
     "output_type": "execute_result"
    }
   ],
   "source": [
    "soma"
   ]
  },
  {
   "cell_type": "code",
   "execution_count": 10,
   "metadata": {},
   "outputs": [
    {
     "name": "stdout",
     "output_type": "stream",
     "text": [
      "i=1 , fatorial=1\n",
      "i=2 , fatorial=2\n",
      "i=3 , fatorial=6\n",
      "i=4 , fatorial=24\n",
      "i=5 , fatorial=120\n",
      "O fatorial de 5 é 120\n"
     ]
    }
   ],
   "source": [
    "# Cálculo Fatorial\n",
    "\n",
    "x = 5\n",
    "\n",
    "# Inicializando o resultado\n",
    "fatorial = 1\n",
    "\n",
    "# Calculando o fatorial\n",
    "for i in range(1, x + 1):\n",
    "    fatorial *= i\n",
    "    print(f\"i={i} , fatorial={fatorial}\")\n",
    "\n",
    "# Exibindo o resultado\n",
    "print(f\"O fatorial de {x} é {fatorial}\")"
   ]
  },
  {
   "cell_type": "markdown",
   "metadata": {},
   "source": [
    "## Funções"
   ]
  },
  {
   "cell_type": "code",
   "execution_count": 11,
   "metadata": {},
   "outputs": [
    {
     "data": {
      "text/plain": [
       "20"
      ]
     },
     "execution_count": 11,
     "metadata": {},
     "output_type": "execute_result"
    }
   ],
   "source": [
    "def nome_funcao(var1,var2):\n",
    "    mult=var1*var2\n",
    "    return mult\n",
    "\n",
    "resultado = nome_funcao(4,5)\n",
    "resultado"
   ]
  },
  {
   "cell_type": "code",
   "execution_count": 12,
   "metadata": {},
   "outputs": [
    {
     "data": {
      "text/plain": [
       "2.5"
      ]
     },
     "execution_count": 12,
     "metadata": {},
     "output_type": "execute_result"
    }
   ],
   "source": [
    "resultado/8"
   ]
  },
  {
   "cell_type": "code",
   "execution_count": 13,
   "metadata": {},
   "outputs": [
    {
     "data": {
      "text/plain": [
       "2550"
      ]
     },
     "execution_count": 13,
     "metadata": {},
     "output_type": "execute_result"
    }
   ],
   "source": [
    "nome_funcao(850,3)"
   ]
  },
  {
   "cell_type": "code",
   "execution_count": 14,
   "metadata": {},
   "outputs": [],
   "source": [
    "def soma_numeros_anteriores(valor):\n",
    "    soma = 0\n",
    "    for i in range(0, valor+1):\n",
    "        #print('soma anterior ',soma)\n",
    "        soma = soma + i\n",
    "        #print(f\"i:{i}, soma :{soma}\")\n",
    "    return soma"
   ]
  },
  {
   "cell_type": "code",
   "execution_count": 15,
   "metadata": {},
   "outputs": [
    {
     "data": {
      "text/plain": [
       "5050"
      ]
     },
     "execution_count": 15,
     "metadata": {},
     "output_type": "execute_result"
    }
   ],
   "source": [
    "result = soma_numeros_anteriores(100)\n",
    "result"
   ]
  },
  {
   "cell_type": "code",
   "execution_count": 16,
   "metadata": {},
   "outputs": [],
   "source": [
    "def soma_sub(n1, n2, n3):\n",
    "    soma = n1+n2+n3\n",
    "    subtracao = n1-n2-n3\n",
    "    return soma,subtracao"
   ]
  },
  {
   "cell_type": "code",
   "execution_count": 17,
   "metadata": {},
   "outputs": [
    {
     "data": {
      "text/plain": [
       "(16, -6)"
      ]
     },
     "execution_count": 17,
     "metadata": {},
     "output_type": "execute_result"
    }
   ],
   "source": [
    "x= soma_sub(5,9,2)\n",
    "x"
   ]
  },
  {
   "cell_type": "code",
   "execution_count": 18,
   "metadata": {},
   "outputs": [
    {
     "name": "stdout",
     "output_type": "stream",
     "text": [
      "16\n",
      "-6\n"
     ]
    }
   ],
   "source": [
    "a,b=soma_sub(5,9,2)\n",
    "print(a)\n",
    "print(b)"
   ]
  },
  {
   "cell_type": "code",
   "execution_count": 19,
   "metadata": {},
   "outputs": [
    {
     "name": "stdout",
     "output_type": "stream",
     "text": [
      "16\n",
      "-6\n",
      "None\n"
     ]
    }
   ],
   "source": [
    "def soma_sub(n1, n2, n3):\n",
    "    soma = n1+n2+n3\n",
    "    subtracao = n1-n2-n3\n",
    "    print(soma)\n",
    "    print(subtracao)\n",
    "\n",
    "a = soma_sub(5,9,2)  \n",
    "print(a)"
   ]
  },
  {
   "cell_type": "markdown",
   "metadata": {},
   "source": [
    "## Estruturas de dados"
   ]
  },
  {
   "cell_type": "markdown",
   "metadata": {},
   "source": [
    "### Listas"
   ]
  },
  {
   "cell_type": "code",
   "execution_count": 20,
   "metadata": {},
   "outputs": [
    {
     "data": {
      "text/plain": [
       "[5, 6, 7, 8, 9]"
      ]
     },
     "execution_count": 20,
     "metadata": {},
     "output_type": "execute_result"
    }
   ],
   "source": [
    "lista = [i for i in range(5,10)]\n",
    "lista"
   ]
  },
  {
   "cell_type": "code",
   "execution_count": 21,
   "metadata": {},
   "outputs": [
    {
     "data": {
      "text/plain": [
       "8"
      ]
     },
     "execution_count": 21,
     "metadata": {},
     "output_type": "execute_result"
    }
   ],
   "source": [
    "lista[3]"
   ]
  },
  {
   "cell_type": "code",
   "execution_count": 22,
   "metadata": {},
   "outputs": [
    {
     "data": {
      "text/plain": [
       "[5, 6, 7, 20, 9]"
      ]
     },
     "execution_count": 22,
     "metadata": {},
     "output_type": "execute_result"
    }
   ],
   "source": [
    "lista[3]=20\n",
    "lista"
   ]
  },
  {
   "cell_type": "code",
   "execution_count": 23,
   "metadata": {},
   "outputs": [
    {
     "data": {
      "text/plain": [
       "[5, 6, 7, 20, 9, 7]"
      ]
     },
     "execution_count": 23,
     "metadata": {},
     "output_type": "execute_result"
    }
   ],
   "source": [
    "lista.append(7)\n",
    "lista"
   ]
  },
  {
   "cell_type": "markdown",
   "metadata": {},
   "source": [
    "### Tuplas"
   ]
  },
  {
   "cell_type": "code",
   "execution_count": 24,
   "metadata": {},
   "outputs": [
    {
     "data": {
      "text/plain": [
       "(5, 6, 7, 8, 9)"
      ]
     },
     "execution_count": 24,
     "metadata": {},
     "output_type": "execute_result"
    }
   ],
   "source": [
    "tupla = (5,6,7,8,9)\n",
    "tupla"
   ]
  },
  {
   "cell_type": "code",
   "execution_count": 25,
   "metadata": {},
   "outputs": [
    {
     "data": {
      "text/plain": [
       "5"
      ]
     },
     "execution_count": 25,
     "metadata": {},
     "output_type": "execute_result"
    }
   ],
   "source": [
    "tupla[0]"
   ]
  },
  {
   "cell_type": "code",
   "execution_count": 26,
   "metadata": {},
   "outputs": [],
   "source": [
    "#tupla[3]=20  # erro! Tuplas são imutáveis depois de definidas"
   ]
  },
  {
   "cell_type": "markdown",
   "metadata": {},
   "source": [
    "### Dicionários"
   ]
  },
  {
   "cell_type": "code",
   "execution_count": 27,
   "metadata": {},
   "outputs": [
    {
     "data": {
      "text/plain": [
       "{'a': 10, 'b': 15}"
      ]
     },
     "execution_count": 27,
     "metadata": {},
     "output_type": "execute_result"
    }
   ],
   "source": [
    "dic = {'a':10, 'b':15}\n",
    "dic"
   ]
  },
  {
   "cell_type": "code",
   "execution_count": 28,
   "metadata": {},
   "outputs": [
    {
     "data": {
      "text/plain": [
       "10"
      ]
     },
     "execution_count": 28,
     "metadata": {},
     "output_type": "execute_result"
    }
   ],
   "source": [
    "dic['a']"
   ]
  }
 ],
 "metadata": {
  "kernelspec": {
   "display_name": "Python 3",
   "language": "python",
   "name": "python3"
  },
  "language_info": {
   "codemirror_mode": {
    "name": "ipython",
    "version": 3
   },
   "file_extension": ".py",
   "mimetype": "text/x-python",
   "name": "python",
   "nbconvert_exporter": "python",
   "pygments_lexer": "ipython3",
   "version": "3.12.5"
  }
 },
 "nbformat": 4,
 "nbformat_minor": 2
}
